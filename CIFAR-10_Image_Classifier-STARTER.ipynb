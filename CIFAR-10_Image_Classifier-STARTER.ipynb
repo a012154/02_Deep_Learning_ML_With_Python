{
 "cells": [
  {
   "cell_type": "markdown",
   "metadata": {},
   "source": [
    "# Introduction\n",
    "\n",
    "In this project, you will build a neural network of your own design to evaluate the CIFAR-10 dataset.\n",
    "Our target accuracy is 70%, but any accuracy over 50% is a great start.\n",
    "Some of the benchmark results on CIFAR-10 include:\n",
    "\n",
    "78.9% Accuracy | [Deep Belief Networks; Krizhevsky, 2010](https://www.cs.toronto.edu/~kriz/conv-cifar10-aug2010.pdf)\n",
    "\n",
    "90.6% Accuracy | [Maxout Networks; Goodfellow et al., 2013](https://arxiv.org/pdf/1302.4389.pdf)\n",
    "\n",
    "96.0% Accuracy | [Wide Residual Networks; Zagoruyko et al., 2016](https://arxiv.org/pdf/1605.07146.pdf)\n",
    "\n",
    "99.0% Accuracy | [GPipe; Huang et al., 2018](https://arxiv.org/pdf/1811.06965.pdf)\n",
    "\n",
    "98.5% Accuracy | [Rethinking Recurrent Neural Networks and other Improvements for ImageClassification; Nguyen et al., 2020](https://arxiv.org/pdf/2007.15161.pdf)\n",
    "\n",
    "Research with this dataset is ongoing. Notably, many of these networks are quite large and quite expensive to train. \n",
    "\n",
    "## Imports"
   ]
  },
  {
   "cell_type": "code",
   "execution_count": 1,
   "metadata": {},
   "outputs": [],
   "source": [
    "## This cell contains the essential imports you will need – DO NOT CHANGE THE CONTENTS! ##\n",
    "import torch\n",
    "import torch.nn as nn\n",
    "import torch.nn.functional as F\n",
    "import torch.optim as optim\n",
    "import torchvision\n",
    "import torchvision.transforms as transforms\n",
    "import matplotlib.pyplot as plt\n",
    "import numpy as np"
   ]
  },
  {
   "cell_type": "markdown",
   "metadata": {},
   "source": [
    "## Load the Dataset\n",
    "\n",
    "Specify your transforms as a list first.\n",
    "The transforms module is already loaded as `transforms`.\n",
    "\n",
    "CIFAR-10 is fortunately included in the torchvision module.\n",
    "Then, you can create your dataset using the `CIFAR10` object from `torchvision.datasets` ([the documentation is available here](https://pytorch.org/docs/stable/torchvision/datasets.html#cifar)).\n",
    "Make sure to specify `download=True`! \n",
    "\n",
    "Once your dataset is created, you'll also need to define a `DataLoader` from the `torch.utils.data` module for both the train and the test set."
   ]
  },
  {
   "cell_type": "code",
   "execution_count": 22,
   "metadata": {},
   "outputs": [
    {
     "name": "stdout",
     "output_type": "stream",
     "text": [
      "Files already downloaded and verified\n",
      "Files already downloaded and verified\n"
     ]
    }
   ],
   "source": [
    "# Define transforms\n",
    "train_transforms = transforms.Compose([\n",
    "    transforms.RandomRotation(3),\n",
    "    transforms.RandomHorizontalFlip(),\n",
    "    transforms.RandomVerticalFlip(),\n",
    "    transforms.ToTensor(),\n",
    "    transforms.Normalize([0.5,0.5,0.5],[0.5,0.5,0.5])\n",
    "])\n",
    "\n",
    "test_tranforms = transforms.Compose([\n",
    "    # transforms.RandomRotation(30),\n",
    "    # transforms.RandomHorizontalFlip(),\n",
    "    transforms.ToTensor(),\n",
    "    transforms.Normalize([0.5,0.5,0.5],[0.5,0.5,0.5])\n",
    "])\n",
    "\n",
    "# Create training set and define training dataloader\n",
    "trainset = torchvision.datasets.CIFAR10('~/.pytorch/CIFAR10_data/', download=True, train=True, transform=train_transforms)\n",
    "trainloader = torch.utils.data.DataLoader(trainset, batch_size=64, shuffle=True, num_workers=4)\n",
    "\n",
    "# Create test set and define test dataloader\n",
    "testset = torchvision.datasets.CIFAR10('~/.pytorch/CIFAR10_data/', download=True, train=False, transform=test_tranforms)\n",
    "# Split testset into testset (80%) and validationset (20%)\n",
    "testset_size = int(len(testset) * 0.8)\n",
    "validation_size = len(testset) - testset_size\n",
    "testset, validationset = torch.utils.data.random_split(testset, [testset_size, validation_size])\n",
    "# define test dataloader\n",
    "testloader = torch.utils.data.DataLoader(testset, batch_size=64, shuffle=True, num_workers=4)\n",
    "# define validation dataloader\n",
    "validationloader = torch.utils.data.DataLoader(validationset, batch_size=64, shuffle=True, num_workers=4)\n",
    "\n",
    "# The 10 classes in the dataset\n",
    "classes = ('plane', 'car', 'bird', 'cat', 'deer', 'dog', 'frog', 'horse', 'ship', 'truck')"
   ]
  },
  {
   "cell_type": "markdown",
   "metadata": {},
   "source": [
    "## Explore the Dataset\n",
    "Using matplotlib, numpy, and torch, explore the dimensions of your data.\n",
    "\n",
    "You can view images using the `show5` function defined below – it takes a data loader as an argument.\n",
    "Remember that normalized images will look really weird to you! You may want to try changing your transforms to view images.\n",
    "Typically using no transforms other than `toTensor()` works well for viewing – but not as well for training your network.\n",
    "If `show5` doesn't work, go back and check your code for creating your data loaders and your training/test sets."
   ]
  },
  {
   "cell_type": "code",
   "execution_count": 11,
   "metadata": {},
   "outputs": [],
   "source": [
    "def show5(img_loader):\n",
    "    dataiter = iter(img_loader)\n",
    "    \n",
    "    batch = next(dataiter)\n",
    "    labels = batch[1][0:5]\n",
    "    images = batch[0][0:5]\n",
    "    for i in range(5):\n",
    "        print(classes[labels[i]])\n",
    "    \n",
    "        image = images[i].numpy()\n",
    "        plt.imshow(image.T)\n",
    "        plt.show()"
   ]
  },
  {
   "cell_type": "code",
   "execution_count": 20,
   "metadata": {},
   "outputs": [
    {
     "data": {
      "text/plain": [
       "(3, 32, 32)"
      ]
     },
     "execution_count": 20,
     "metadata": {},
     "output_type": "execute_result"
    }
   ],
   "source": [
    "images, label = next(iter(trainloader))\n",
    "images = images[0].numpy()\n",
    "images.shape # number of channels: 3, pixel size: 32x32"
   ]
  },
  {
   "cell_type": "code",
   "execution_count": 23,
   "metadata": {},
   "outputs": [
    {
     "name": "stdout",
     "output_type": "stream",
     "text": [
      "Training images:  50000\n",
      "Testing images:  8000\n",
      "Validation images:  2048\n"
     ]
    }
   ],
   "source": [
    "training_images = 0\n",
    "for sample in trainloader:\n",
    "    images, labels = sample\n",
    "    training_images += labels.size(0)\n",
    "print(\"Training images: \", training_images)\n",
    "\n",
    "testing_images = 0\n",
    "for sample in testloader:\n",
    "    images, labels = sample\n",
    "    testing_images += labels.size(0)\n",
    "print(\"Testing images: \", testing_images)\n",
    "\n",
    "validation_images = 0\n",
    "for samples in validationloader:\n",
    "    images, labels = sample\n",
    "    validation_images += labels.size(0)\n",
    "print(\"Validation images: \", validation_images)"
   ]
  },
  {
   "cell_type": "code",
   "execution_count": 17,
   "metadata": {},
   "outputs": [
    {
     "name": "stdout",
     "output_type": "stream",
     "text": [
      "bird\n"
     ]
    },
    {
     "name": "stderr",
     "output_type": "stream",
     "text": [
      "Clipping input data to the valid range for imshow with RGB data ([0..1] for floats or [0..255] for integers).\n"
     ]
    },
    {
     "data": {
      "image/png": "[encoded data removed]",
      "text/plain": [
       "<Figure size 432x288 with 1 Axes>"
      ]
     },
     "metadata": {
      "needs_background": "light"
     },
     "output_type": "display_data"
    },
    {
     "name": "stderr",
     "output_type": "stream",
     "text": [
      "Clipping input data to the valid range for imshow with RGB data ([0..1] for floats or [0..255] for integers).\n"
     ]
    },
    {
     "name": "stdout",
     "output_type": "stream",
     "text": [
      "truck\n"
     ]
    },
    {
     "data": {
      "image/png": "[encoded data removed]",
      "text/plain": [
       "<Figure size 432x288 with 1 Axes>"
      ]
     },
     "metadata": {
      "needs_background": "light"
     },
     "output_type": "display_data"
    },
    {
     "name": "stderr",
     "output_type": "stream",
     "text": [
      "Clipping input data to the valid range for imshow with RGB data ([0..1] for floats or [0..255] for integers).\n"
     ]
    },
    {
     "name": "stdout",
     "output_type": "stream",
     "text": [
      "ship\n"
     ]
    },
    {
     "data": {
      "image/png": "[encoded data removed]",
      "text/plain": [
       "<Figure size 432x288 with 1 Axes>"
      ]
     },
     "metadata": {
      "needs_background": "light"
     },
     "output_type": "display_data"
    },
    {
     "name": "stderr",
     "output_type": "stream",
     "text": [
      "Clipping input data to the valid range for imshow with RGB data ([0..1] for floats or [0..255] for integers).\n"
     ]
    },
    {
     "name": "stdout",
     "output_type": "stream",
     "text": [
      "truck\n"
     ]
    },
    {
     "data": {
      "image/png": "[encoded data removed]",
      "text/plain": [
       "<Figure size 432x288 with 1 Axes>"
      ]
     },
     "metadata": {
      "needs_background": "light"
     },
     "output_type": "display_data"
    },
    {
     "name": "stdout",
     "output_type": "stream",
     "text": [
      "plane\n"
     ]
    },
    {
     "name": "stderr",
     "output_type": "stream",
     "text": [
      "Clipping input data to the valid range for imshow with RGB data ([0..1] for floats or [0..255] for integers).\n"
     ]
    },
    {
     "data": {
      "image/png": "[encoded data removed]",
      "text/plain": [
       "<Figure size 432x288 with 1 Axes>"
      ]
     },
     "metadata": {
      "needs_background": "light"
     },
     "output_type": "display_data"
    }
   ],
   "source": [
    "# Explore data\n",
    "show5(trainloader)"
   ]
  },
  {
   "cell_type": "markdown",
   "metadata": {},
   "source": [
    "## Build your Neural Network\n",
    "Using the layers in `torch.nn` (which has been imported as `nn`) and the `torch.nn.functional` module (imported as `F`), construct a neural network based on the parameters of the dataset. \n",
    "Feel free to construct a model of any architecture – feedforward, convolutional, or even something more advanced!"
   ]
  },
  {
   "cell_type": "code",
   "execution_count": 50,
   "metadata": {},
   "outputs": [],
   "source": [
    "from torch import nn, optim\n",
    "import torch.nn.functional as F\n",
    "\n",
    "class Classifier(nn.Module):\n",
    "    def __init__(self):\n",
    "        super().__init__()\n",
    "        self.fc1 = nn.Linear(3072, 2048)\n",
    "        self.fc2 = nn.Linear(2048, 1024)\n",
    "        self.fc3 = nn.Linear(1024, 960)\n",
    "        self.fc4 = nn.Linear(960, 640)\n",
    "        self.fc5 = nn.Linear(640, 256)\n",
    "        self.fc6 = nn.Linear(256, 128)\n",
    "        self.fc7 = nn.Linear(128, 64)\n",
    "        self.fc8 = nn.Linear(64, 10)\n",
    "        self.dropout = nn.Dropout(0.2)\n",
    "\n",
    "    def forward(self, x):\n",
    "        x = x.view(x.shape[0], -1)\n",
    "\n",
    "        x = F.relu(self.fc1(x))\n",
    "        x = F.relu(self.fc2(x))\n",
    "        x = self.dropout(x)\n",
    "        x = F.relu(self.fc3(x))\n",
    "        x = F.relu(self.fc4(x))\n",
    "        x = self.dropout(x)\n",
    "        x = F.relu(self.fc5(x))\n",
    "        x = F.relu(self.fc6(x))\n",
    "        x = self.dropout(x)\n",
    "        x = F.relu(self.fc7(x))\n",
    "        x = self.dropout(x)\n",
    "        x = F.log_softmax(self.fc8(x), dim=1)\n",
    "\n",
    "        return x"
   ]
  },
  {
   "cell_type": "markdown",
   "metadata": {},
   "source": [
    "Specify a loss function and an optimizer, and instantiate the model.\n",
    "\n",
    "If you use a less common loss function, please note why you chose that loss function in a comment."
   ]
  },
  {
   "cell_type": "code",
   "execution_count": 51,
   "metadata": {},
   "outputs": [
    {
     "data": {
      "text/plain": [
       "1"
      ]
     },
     "execution_count": 51,
     "metadata": {},
     "output_type": "execute_result"
    }
   ],
   "source": [
    "model = Classifier()\n",
    "criterion = nn.NLLLoss()\n",
    "optimizer = optim.Adam(model.parameters(), lr=0.001)\n",
    "\n",
    "device = torch.device(\"cuda\" if torch.cuda.is_available() else \"cpu\")\n",
    "torch.cuda.set_device(1)\n",
    "torch.cuda.current_device()\n"
   ]
  },
  {
   "cell_type": "markdown",
   "metadata": {},
   "source": [
    "## Running your Neural Network\n",
    "Use whatever method you like to train your neural network, and ensure you record the average loss at each epoch. \n",
    "Don't forget to use `torch.device()` and the `.to()` method for both your model and your data if you are using GPU!\n",
    "\n",
    "If you want to print your loss during each epoch, you can use the `enumerate` function and print the loss after a set number of batches. 250 batches works well for most people!"
   ]
  },
  {
   "cell_type": "code",
   "execution_count": 38,
   "metadata": {},
   "outputs": [
    {
     "name": "stdout",
     "output_type": "stream",
     "text": [
      "Epoch: 1/33..  Training Loss: 0.675..  Validation Loss: 1.987..  Validation Accuracy: 0.244\n",
      "Epoch: 1/33..  Training Loss: 0.629..  Validation Loss: 1.909..  Validation Accuracy: 0.287\n",
      "Epoch: 1/33..  Training Loss: 0.617..  Validation Loss: 1.839..  Validation Accuracy: 0.334\n",
      "Epoch: 2/33..  Training Loss: 0.603..  Validation Loss: 1.825..  Validation Accuracy: 0.335\n",
      "Epoch: 2/33..  Training Loss: 0.599..  Validation Loss: 1.809..  Validation Accuracy: 0.340\n",
      "Epoch: 2/33..  Training Loss: 0.577..  Validation Loss: 1.771..  Validation Accuracy: 0.361\n",
      "Epoch: 3/33..  Training Loss: 0.576..  Validation Loss: 1.726..  Validation Accuracy: 0.380\n",
      "Epoch: 3/33..  Training Loss: 0.565..  Validation Loss: 1.741..  Validation Accuracy: 0.372\n",
      "Epoch: 3/33..  Training Loss: 0.568..  Validation Loss: 1.719..  Validation Accuracy: 0.369\n",
      "Epoch: 4/33..  Training Loss: 0.557..  Validation Loss: 1.696..  Validation Accuracy: 0.386\n",
      "Epoch: 4/33..  Training Loss: 0.549..  Validation Loss: 1.714..  Validation Accuracy: 0.388\n",
      "Epoch: 4/33..  Training Loss: 0.548..  Validation Loss: 1.684..  Validation Accuracy: 0.375\n",
      "Epoch: 5/33..  Training Loss: 0.542..  Validation Loss: 1.630..  Validation Accuracy: 0.413\n",
      "Epoch: 5/33..  Training Loss: 0.539..  Validation Loss: 1.673..  Validation Accuracy: 0.405\n",
      "Epoch: 5/33..  Training Loss: 0.531..  Validation Loss: 1.625..  Validation Accuracy: 0.417\n",
      "Epoch: 6/33..  Training Loss: 0.528..  Validation Loss: 1.627..  Validation Accuracy: 0.421\n",
      "Epoch: 6/33..  Training Loss: 0.523..  Validation Loss: 1.630..  Validation Accuracy: 0.418\n",
      "Epoch: 6/33..  Training Loss: 0.522..  Validation Loss: 1.619..  Validation Accuracy: 0.430\n",
      "Epoch: 7/33..  Training Loss: 0.518..  Validation Loss: 1.589..  Validation Accuracy: 0.428\n",
      "Epoch: 7/33..  Training Loss: 0.515..  Validation Loss: 1.594..  Validation Accuracy: 0.436\n",
      "Epoch: 7/33..  Training Loss: 0.517..  Validation Loss: 1.597..  Validation Accuracy: 0.428\n",
      "Epoch: 8/33..  Training Loss: 0.509..  Validation Loss: 1.580..  Validation Accuracy: 0.453\n",
      "Epoch: 8/33..  Training Loss: 0.508..  Validation Loss: 1.601..  Validation Accuracy: 0.430\n",
      "Epoch: 8/33..  Training Loss: 0.502..  Validation Loss: 1.547..  Validation Accuracy: 0.456\n",
      "Epoch: 8/33..  Training Loss: 0.504..  Validation Loss: 1.561..  Validation Accuracy: 0.448\n",
      "Epoch: 9/33..  Training Loss: 0.495..  Validation Loss: 1.563..  Validation Accuracy: 0.452\n",
      "Epoch: 9/33..  Training Loss: 0.499..  Validation Loss: 1.569..  Validation Accuracy: 0.452\n",
      "Epoch: 9/33..  Training Loss: 0.500..  Validation Loss: 1.523..  Validation Accuracy: 0.458\n",
      "Epoch: 10/33..  Training Loss: 0.491..  Validation Loss: 1.557..  Validation Accuracy: 0.446\n",
      "Epoch: 10/33..  Training Loss: 0.493..  Validation Loss: 1.539..  Validation Accuracy: 0.454\n",
      "Epoch: 10/33..  Training Loss: 0.494..  Validation Loss: 1.540..  Validation Accuracy: 0.447\n",
      "Epoch: 11/33..  Training Loss: 0.490..  Validation Loss: 1.530..  Validation Accuracy: 0.476\n",
      "Epoch: 11/33..  Training Loss: 0.488..  Validation Loss: 1.532..  Validation Accuracy: 0.472\n",
      "Epoch: 11/33..  Training Loss: 0.483..  Validation Loss: 1.504..  Validation Accuracy: 0.472\n",
      "Epoch: 12/33..  Training Loss: 0.483..  Validation Loss: 1.529..  Validation Accuracy: 0.466\n",
      "Epoch: 12/33..  Training Loss: 0.482..  Validation Loss: 1.496..  Validation Accuracy: 0.474\n",
      "Epoch: 12/33..  Training Loss: 0.483..  Validation Loss: 1.501..  Validation Accuracy: 0.476\n",
      "Epoch: 13/33..  Training Loss: 0.477..  Validation Loss: 1.472..  Validation Accuracy: 0.481\n",
      "Epoch: 13/33..  Training Loss: 0.478..  Validation Loss: 1.493..  Validation Accuracy: 0.465\n",
      "Epoch: 13/33..  Training Loss: 0.476..  Validation Loss: 1.512..  Validation Accuracy: 0.475\n",
      "Epoch: 14/33..  Training Loss: 0.480..  Validation Loss: 1.492..  Validation Accuracy: 0.480\n",
      "Epoch: 14/33..  Training Loss: 0.475..  Validation Loss: 1.501..  Validation Accuracy: 0.472\n",
      "Epoch: 14/33..  Training Loss: 0.475..  Validation Loss: 1.522..  Validation Accuracy: 0.466\n",
      "Epoch: 15/33..  Training Loss: 0.472..  Validation Loss: 1.482..  Validation Accuracy: 0.477\n",
      "Epoch: 15/33..  Training Loss: 0.471..  Validation Loss: 1.519..  Validation Accuracy: 0.459\n",
      "Epoch: 15/33..  Training Loss: 0.474..  Validation Loss: 1.500..  Validation Accuracy: 0.476\n",
      "Epoch: 16/33..  Training Loss: 0.473..  Validation Loss: 1.484..  Validation Accuracy: 0.491\n",
      "Epoch: 16/33..  Training Loss: 0.468..  Validation Loss: 1.510..  Validation Accuracy: 0.469\n",
      "Epoch: 16/33..  Training Loss: 0.470..  Validation Loss: 1.488..  Validation Accuracy: 0.472\n",
      "Epoch: 16/33..  Training Loss: 0.474..  Validation Loss: 1.507..  Validation Accuracy: 0.474\n",
      "Epoch: 17/33..  Training Loss: 0.470..  Validation Loss: 1.563..  Validation Accuracy: 0.459\n",
      "Epoch: 17/33..  Training Loss: 0.468..  Validation Loss: 1.480..  Validation Accuracy: 0.473\n",
      "Epoch: 17/33..  Training Loss: 0.465..  Validation Loss: 1.469..  Validation Accuracy: 0.476\n",
      "Epoch: 18/33..  Training Loss: 0.462..  Validation Loss: 1.532..  Validation Accuracy: 0.457\n",
      "Epoch: 18/33..  Training Loss: 0.469..  Validation Loss: 1.462..  Validation Accuracy: 0.478\n",
      "Epoch: 18/33..  Training Loss: 0.466..  Validation Loss: 1.468..  Validation Accuracy: 0.485\n",
      "Epoch: 19/33..  Training Loss: 0.457..  Validation Loss: 1.493..  Validation Accuracy: 0.457\n",
      "Epoch: 19/33..  Training Loss: 0.466..  Validation Loss: 1.465..  Validation Accuracy: 0.480\n",
      "Epoch: 19/33..  Training Loss: 0.458..  Validation Loss: 1.471..  Validation Accuracy: 0.486\n",
      "Epoch: 20/33..  Training Loss: 0.457..  Validation Loss: 1.464..  Validation Accuracy: 0.492\n",
      "Epoch: 20/33..  Training Loss: 0.461..  Validation Loss: 1.456..  Validation Accuracy: 0.490\n",
      "Epoch: 20/33..  Training Loss: 0.463..  Validation Loss: 1.486..  Validation Accuracy: 0.486\n",
      "Epoch: 21/33..  Training Loss: 0.460..  Validation Loss: 1.458..  Validation Accuracy: 0.481\n",
      "Epoch: 21/33..  Training Loss: 0.461..  Validation Loss: 1.443..  Validation Accuracy: 0.502\n",
      "Epoch: 21/33..  Training Loss: 0.462..  Validation Loss: 1.453..  Validation Accuracy: 0.479\n",
      "Epoch: 22/33..  Training Loss: 0.458..  Validation Loss: 1.480..  Validation Accuracy: 0.475\n",
      "Epoch: 22/33..  Training Loss: 0.454..  Validation Loss: 1.469..  Validation Accuracy: 0.481\n",
      "Epoch: 22/33..  Training Loss: 0.455..  Validation Loss: 1.460..  Validation Accuracy: 0.487\n",
      "Epoch: 23/33..  Training Loss: 0.452..  Validation Loss: 1.496..  Validation Accuracy: 0.475\n",
      "Epoch: 23/33..  Training Loss: 0.452..  Validation Loss: 1.479..  Validation Accuracy: 0.484\n",
      "Epoch: 23/33..  Training Loss: 0.450..  Validation Loss: 1.484..  Validation Accuracy: 0.477\n",
      "Epoch: 24/33..  Training Loss: 0.457..  Validation Loss: 1.502..  Validation Accuracy: 0.482\n",
      "Epoch: 24/33..  Training Loss: 0.449..  Validation Loss: 1.456..  Validation Accuracy: 0.484\n",
      "Epoch: 24/33..  Training Loss: 0.454..  Validation Loss: 1.475..  Validation Accuracy: 0.480\n",
      "Epoch: 24/33..  Training Loss: 0.455..  Validation Loss: 1.460..  Validation Accuracy: 0.490\n",
      "Epoch: 25/33..  Training Loss: 0.452..  Validation Loss: 1.479..  Validation Accuracy: 0.489\n",
      "Epoch: 25/33..  Training Loss: 0.452..  Validation Loss: 1.451..  Validation Accuracy: 0.496\n",
      "Epoch: 25/33..  Training Loss: 0.459..  Validation Loss: 1.486..  Validation Accuracy: 0.479\n",
      "Epoch: 26/33..  Training Loss: 0.454..  Validation Loss: 1.507..  Validation Accuracy: 0.470\n",
      "Epoch: 26/33..  Training Loss: 0.453..  Validation Loss: 1.450..  Validation Accuracy: 0.488\n",
      "Epoch: 26/33..  Training Loss: 0.452..  Validation Loss: 1.463..  Validation Accuracy: 0.502\n",
      "Epoch: 27/33..  Training Loss: 0.446..  Validation Loss: 1.485..  Validation Accuracy: 0.492\n",
      "Epoch: 27/33..  Training Loss: 0.455..  Validation Loss: 1.466..  Validation Accuracy: 0.493\n",
      "Epoch: 27/33..  Training Loss: 0.451..  Validation Loss: 1.479..  Validation Accuracy: 0.487\n",
      "Epoch: 28/33..  Training Loss: 0.443..  Validation Loss: 1.448..  Validation Accuracy: 0.484\n",
      "Epoch: 28/33..  Training Loss: 0.448..  Validation Loss: 1.452..  Validation Accuracy: 0.486\n",
      "Epoch: 28/33..  Training Loss: 0.449..  Validation Loss: 1.447..  Validation Accuracy: 0.488\n",
      "Epoch: 29/33..  Training Loss: 0.448..  Validation Loss: 1.481..  Validation Accuracy: 0.484\n",
      "Epoch: 29/33..  Training Loss: 0.447..  Validation Loss: 1.438..  Validation Accuracy: 0.492\n",
      "Epoch: 29/33..  Training Loss: 0.448..  Validation Loss: 1.441..  Validation Accuracy: 0.473\n",
      "Epoch: 30/33..  Training Loss: 0.444..  Validation Loss: 1.480..  Validation Accuracy: 0.481\n",
      "Epoch: 30/33..  Training Loss: 0.441..  Validation Loss: 1.441..  Validation Accuracy: 0.499\n",
      "Epoch: 30/33..  Training Loss: 0.443..  Validation Loss: 1.468..  Validation Accuracy: 0.488\n",
      "Epoch: 31/33..  Training Loss: 0.446..  Validation Loss: 1.431..  Validation Accuracy: 0.500\n",
      "Epoch: 31/33..  Training Loss: 0.437..  Validation Loss: 1.469..  Validation Accuracy: 0.494\n",
      "Epoch: 31/33..  Training Loss: 0.446..  Validation Loss: 1.442..  Validation Accuracy: 0.500\n",
      "Epoch: 32/33..  Training Loss: 0.444..  Validation Loss: 1.453..  Validation Accuracy: 0.503\n",
      "Epoch: 32/33..  Training Loss: 0.441..  Validation Loss: 1.447..  Validation Accuracy: 0.491\n",
      "Epoch: 32/33..  Training Loss: 0.442..  Validation Loss: 1.454..  Validation Accuracy: 0.501\n",
      "Epoch: 32/33..  Training Loss: 0.445..  Validation Loss: 1.478..  Validation Accuracy: 0.470\n",
      "Epoch: 33/33..  Training Loss: 0.446..  Validation Loss: 1.444..  Validation Accuracy: 0.504\n",
      "Epoch: 33/33..  Training Loss: 0.446..  Validation Loss: 1.433..  Validation Accuracy: 0.494\n",
      "Epoch: 33/33..  Training Loss: 0.442..  Validation Loss: 1.412..  Validation Accuracy: 0.498\n"
     ]
    }
   ],
   "source": [
    "epochs = 33\n",
    "steps = 0\n",
    "print_every = 250\n",
    "running_loss = 0\n",
    "\n",
    "train_losses, validation_losses = [], []\n",
    "\n",
    "model.to(device)\n",
    "\n",
    "for epoch in range(epochs):\n",
    "    for inputs, labels in trainloader:\n",
    "        steps += 1\n",
    "        # Move input and label tensors to the default device\n",
    "        inputs, labels = inputs.to(device), labels.to(device)\n",
    "        \n",
    "        optimizer.zero_grad()\n",
    "        \n",
    "        logps = model.forward(inputs)\n",
    "        loss = criterion(logps, labels)\n",
    "        loss.backward()\n",
    "        optimizer.step()\n",
    "\n",
    "        running_loss += loss.item()\n",
    "        \n",
    "        if steps % print_every == 0:\n",
    "            validation_loss = 0\n",
    "            accuracy = 0\n",
    "            model.eval()\n",
    "            with torch.no_grad():\n",
    "                for inputs, labels in validationloader:\n",
    "                    inputs, labels = inputs.to(device), labels.to(device)\n",
    "                    logps = model.forward(inputs)\n",
    "                    batch_loss = criterion(logps, labels)\n",
    "                    \n",
    "                    validation_loss += batch_loss.item()\n",
    "                    \n",
    "                    # Calculate accuracy\n",
    "                    ps = torch.exp(logps)\n",
    "                    top_p, top_class = ps.topk(1, dim=1)\n",
    "                    equals = top_class == labels.view(*top_class.shape)\n",
    "                    accuracy += torch.mean(equals.type(torch.FloatTensor)).item()\n",
    "          \n",
    "            model.train()\n",
    "            \n",
    "            train_losses.append(running_loss/len(trainloader))\n",
    "            validation_losses.append(validation_loss/len(validationloader))\n",
    "\n",
    "            print(\"Epoch: {}/{}.. \".format(epoch+1, epochs),\n",
    "              \"Training Loss: {:.3f}.. \".format(running_loss/len(trainloader)),\n",
    "              \"Validation Loss: {:.3f}.. \".format(validation_loss/len(validationloader)),\n",
    "              \"Validation Accuracy: {:.3f}\".format(accuracy/len(validationloader)))\n",
    "            \n",
    "            running_loss = 0\n",
    "            \n"
   ]
  },
  {
   "cell_type": "markdown",
   "metadata": {},
   "source": [
    "Plot the training loss (and validation loss/accuracy, if recorded)."
   ]
  },
  {
   "cell_type": "code",
   "execution_count": 40,
   "metadata": {},
   "outputs": [
    {
     "data": {
      "text/plain": [
       "<matplotlib.legend.Legend at 0x1a8026ce3d0>"
      ]
     },
     "execution_count": 40,
     "metadata": {},
     "output_type": "execute_result"
    },
    {
     "data": {
      "image/png": "[encoded data removed]",
      "text/plain": [
       "<Figure size 432x288 with 1 Axes>"
      ]
     },
     "metadata": {
      "image/png": {
       "height": 248,
       "width": 372
      },
      "needs_background": "light"
     },
     "output_type": "display_data"
    }
   ],
   "source": [
    "%matplotlib inline\n",
    "%config InlineBackend.figure_format = 'retina'\n",
    "import matplotlib.pyplot as plt\n",
    "\n",
    "plt.plot(train_losses, label='Training loss')\n",
    "plt.plot(validation_losses, label='Validation loss')\n",
    "plt.legend(frameon=False)"
   ]
  },
  {
   "cell_type": "markdown",
   "metadata": {},
   "source": [
    "## Testing your model\n",
    "Using the previously created `DataLoader` for the test set, compute the percentage of correct predictions using the highest probability prediction. \n",
    "\n",
    "If your accuracy is over 70%, great work! \n",
    "This is a hard task to exceed 70% on.\n",
    "\n",
    "If your accuracy is under 45%, you'll need to make improvements.\n",
    "Go back and check your model architecture, loss function, and optimizer to make sure they're appropriate for an image classification task."
   ]
  },
  {
   "cell_type": "code",
   "execution_count": 41,
   "metadata": {},
   "outputs": [],
   "source": [
    "def view_classify(img, ps, version=\"CIFAR\"):\n",
    "    ''' Function for viewing an image and it's predicted classes.\n",
    "    '''\n",
    "    ps = ps.data.cpu().numpy().squeeze()\n",
    "\n",
    "    fig, (ax1, ax2) = plt.subplots(figsize=(6,9), ncols=2)\n",
    "    ax1.imshow(img.resize_(1, 28, 28).cpu().numpy().squeeze())\n",
    "    ax1.axis('off')\n",
    "    ax2.barh(np.arange(10), ps)\n",
    "    ax2.set_aspect(0.1)\n",
    "    ax2.set_yticks(np.arange(10))\n",
    "    if version == \"MNIST\":\n",
    "        ax2.set_yticklabels(np.arange(10))\n",
    "    elif version == \"CIFAR\":\n",
    "        ax2.set_yticklabels(['plane', 'car', 'bird', 'cat', 'deer', 'dog', 'frog', 'horse', 'ship', 'truck'], size='small');\n",
    "    ax2.set_title('Class Probability')\n",
    "    ax2.set_xlim(0, 1.1)\n",
    "\n",
    "    plt.tight_layout()"
   ]
  },
  {
   "cell_type": "code",
   "execution_count": 47,
   "metadata": {},
   "outputs": [
    {
     "data": {
      "image/png": "[encoded data removed]",
      "text/plain": [
       "<Figure size 432x648 with 2 Axes>"
      ]
     },
     "metadata": {
      "image/png": {
       "height": 227,
       "width": 424
      },
      "needs_background": "light"
     },
     "output_type": "display_data"
    }
   ],
   "source": [
    "# Test out your network!\n",
    "\n",
    "model.eval()\n",
    "\n",
    "dataiter = iter(testloader)\n",
    "images, labels = next(dataiter)\n",
    "images, labels = images.to(device), labels.to(device)\n",
    "img = images[0]\n",
    "# Convert 2D image to 1D vector\n",
    "img = img.view(1, 3072)\n",
    "\n",
    "# Calculate the class probabilities (softmax) for img\n",
    "with torch.no_grad():\n",
    "    output = model.forward(img)\n",
    "\n",
    "ps = torch.exp(output)\n",
    "\n",
    "# Plot the image and probabilities\n",
    "view_classify(img.view(3, 32, 32), ps, version='CIFAR')"
   ]
  },
  {
   "cell_type": "code",
   "execution_count": 45,
   "metadata": {},
   "outputs": [
    {
     "name": "stdout",
     "output_type": "stream",
     "text": [
      "Accuracy of the network on the 8000 test images: 50 %\n"
     ]
    }
   ],
   "source": [
    "# https://pytorch.org/tutorials/beginner/blitz/cifar10_tutorial.html\n",
    "\n",
    "correct = 0\n",
    "total = 0\n",
    "\n",
    "model.eval()\n",
    "\n",
    "# since we're not training, we don't need to calculate the gradients for our outputs\n",
    "with torch.no_grad():\n",
    "    for images, labels in testloader:        \n",
    "        images, labels = images.to(device), labels.to(device)\n",
    "        # calculate outputs by running images through the network\n",
    "        outputs = model(images)\n",
    "        # the class with the highest energy is what we choose as prediction\n",
    "        _, predicted = torch.max(outputs.data, 1)\n",
    "        total += labels.size(0)\n",
    "        correct += (predicted == labels).sum().item()\n",
    "\n",
    "print(f'Accuracy of the network on the 8000 test images: {100 * correct // total} %')"
   ]
  },
  {
   "cell_type": "code",
   "execution_count": 46,
   "metadata": {},
   "outputs": [
    {
     "name": "stdout",
     "output_type": "stream",
     "text": [
      "Accuracy for class: plane is 61.4 %\n",
      "Accuracy for class: car   is 68.8 %\n",
      "Accuracy for class: bird  is 22.1 %\n",
      "Accuracy for class: cat   is 32.1 %\n",
      "Accuracy for class: deer  is 49.4 %\n",
      "Accuracy for class: dog   is 39.0 %\n",
      "Accuracy for class: frog  is 58.3 %\n",
      "Accuracy for class: horse is 54.9 %\n",
      "Accuracy for class: ship  is 67.5 %\n",
      "Accuracy for class: truck is 55.7 %\n"
     ]
    }
   ],
   "source": [
    "# https://pytorch.org/tutorials/beginner/blitz/cifar10_tutorial.html\n",
    "\n",
    "# prepare to count predictions for each class\n",
    "correct_pred = {classname: 0 for classname in classes}\n",
    "total_pred = {classname: 0 for classname in classes}\n",
    "\n",
    "# again no gradients needed\n",
    "with torch.no_grad():\n",
    "    for images, labels in testloader:\n",
    "        images, labels = images.to(device), labels.to(device)\n",
    "        # calculate outputs by running images through the network\n",
    "        outputs = model(images)\n",
    "        _, predictions = torch.max(outputs, 1)\n",
    "        # collect the correct predictions for each class\n",
    "        for label, prediction in zip(labels, predictions):\n",
    "            if label == prediction:\n",
    "                correct_pred[classes[label]] += 1\n",
    "            total_pred[classes[label]] += 1\n",
    "\n",
    "\n",
    "# print accuracy for each class\n",
    "for classname, correct_count in correct_pred.items():\n",
    "    accuracy = 100 * float(correct_count) / total_pred[classname]\n",
    "    print(f'Accuracy for class: {classname:5s} is {accuracy:.1f} %')"
   ]
  },
  {
   "cell_type": "markdown",
   "metadata": {},
   "source": [
    "## Saving your model\n",
    "Using `torch.save`, save your model for future loading."
   ]
  },
  {
   "cell_type": "code",
   "execution_count": 48,
   "metadata": {},
   "outputs": [],
   "source": [
    "torch.save(model.state_dict(), 'checkpoint.pth')"
   ]
  },
  {
   "cell_type": "markdown",
   "metadata": {},
   "source": [
    "## Make a Recommendation\n",
    "\n",
    "Based on your evaluation, what is your recommendation on whether to build or buy? Explain your reasoning below."
   ]
  },
  {
   "attachments": {},
   "cell_type": "markdown",
   "metadata": {},
   "source": [
    "* The present model was developed with the PyTorch library using the “CIFAR-10” dataset which contains 50,000 images for training, 2,000 for validation and 8,000 images for testing. The images have a pixel resolution of 32x32 and 3 color channels. The model has a 50% accuracy rate on the test images. The model has more accuracy predicting planes, cars, frogs and ships, but it is not so accurate predicting birds, cats, and dogs. The model is relatively simple, with a small number of linear layers, and it does not implement convolutional layers or other more advanced techniques, so it still has ample room for improvement. For these reasons, it could be argued that developing an in-house solution, with even more accuracy, is possible and more recommendable than buying an external solution. \n"
   ]
  }
 ],
 "metadata": {
  "kernelspec": {
   "display_name": "gpu2",
   "language": "python",
   "name": "gpu2"
  },
  "language_info": {
   "codemirror_mode": {
    "name": "ipython",
    "version": 3
   },
   "file_extension": ".py",
   "mimetype": "text/x-python",
   "name": "python",
   "nbconvert_exporter": "python",
   "pygments_lexer": "ipython3",
   "version": "3.9.15"
  },
  "vscode": {
   "interpreter": {
    "hash": "e1003f1e7725819b536fafe019dffe199d7ec9cd3f6cb8d655197544c9601035"
   }
  }
 },
 "nbformat": 4,
 "nbformat_minor": 4
}
